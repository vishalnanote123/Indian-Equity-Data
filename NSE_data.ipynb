{
 "cells": [
  {
   "cell_type": "raw",
   "id": "ef4195c7",
   "metadata": {},
   "source": [
    "Data set Link = https://www.kaggle.com/datasets/harshsharma1805/indian-equity-data"
   ]
  },
  {
   "cell_type": "markdown",
   "id": "51c5e940",
   "metadata": {},
   "source": [
    "# Import Python Libraries"
   ]
  },
  {
   "cell_type": "code",
   "execution_count": 44,
   "id": "0fdca559",
   "metadata": {},
   "outputs": [
    {
     "name": "stdout",
     "output_type": "stream",
     "text": [
      "Requirement already satisfied: numpy in c:\\users\\acer\\anaconda3\\lib\\site-packages (1.20.1)\n",
      "Collecting numpy\n",
      "  Downloading numpy-1.22.3-cp38-cp38-win_amd64.whl (14.7 MB)\n",
      "Installing collected packages: numpy\n",
      "  Attempting uninstall: numpy\n",
      "    Found existing installation: numpy 1.20.1\n",
      "    Uninstalling numpy-1.20.1:\n",
      "      Successfully uninstalled numpy-1.20.1\n",
      "Successfully installed numpy-1.22.3\n",
      "Note: you may need to restart the kernel to use updated packages.\n"
     ]
    }
   ],
   "source": [
    "pip install numpy --upgrade"
   ]
  },
  {
   "cell_type": "code",
   "execution_count": 2,
   "id": "04a6c865",
   "metadata": {},
   "outputs": [],
   "source": [
    "from datetime import datetime\n",
    "from dateutil.parser import parse\n",
    "import pandas as pd\n",
    "import numpy as np\n",
    "import warnings\n",
    "warnings.filterwarnings(\"ignore\")"
   ]
  },
  {
   "cell_type": "markdown",
   "id": "0145b132",
   "metadata": {},
   "source": [
    "# Load Data"
   ]
  },
  {
   "cell_type": "code",
   "execution_count": 3,
   "id": "f1e2f3dc",
   "metadata": {},
   "outputs": [],
   "source": [
    "def myDateConv(tt):\n",
    "    sep = tt[2]\n",
    "    if sep == '-':\n",
    "        return pd.to_datetime(tt, format='%d-%m-%Y')\n",
    "    elif sep == '/':\n",
    "        return pd.to_datetime(tt, format='%d/%m/%Y')\n",
    "    else:\n",
    "        return tt"
   ]
  },
  {
   "cell_type": "code",
   "execution_count": 5,
   "id": "a568cae9",
   "metadata": {},
   "outputs": [],
   "source": [
    "df_1 = pd.read_csv(\"C:\\\\Users\\\\Acer\\\\Desktop\\\\Python\\\\data\\\\Equity Data (1 Jan 2020).csv\", converters={'DATE1': myDateConv})"
   ]
  },
  {
   "cell_type": "code",
   "execution_count": 6,
   "id": "59d0c319",
   "metadata": {},
   "outputs": [
    {
     "data": {
      "text/html": [
       "<div>\n",
       "<style scoped>\n",
       "    .dataframe tbody tr th:only-of-type {\n",
       "        vertical-align: middle;\n",
       "    }\n",
       "\n",
       "    .dataframe tbody tr th {\n",
       "        vertical-align: top;\n",
       "    }\n",
       "\n",
       "    .dataframe thead th {\n",
       "        text-align: right;\n",
       "    }\n",
       "</style>\n",
       "<table border=\"1\" class=\"dataframe\">\n",
       "  <thead>\n",
       "    <tr style=\"text-align: right;\">\n",
       "      <th></th>\n",
       "      <th>DATE1</th>\n",
       "      <th>SYMBOL</th>\n",
       "      <th>PREV_CLOSE</th>\n",
       "      <th>OPEN_PRICE</th>\n",
       "      <th>HIGH_PRICE</th>\n",
       "      <th>LOW_PRICE</th>\n",
       "      <th>LAST_PRICE</th>\n",
       "      <th>CLOSE_PRICE</th>\n",
       "      <th>AVG_PRICE</th>\n",
       "      <th>TTL_TRD_QNTY</th>\n",
       "      <th>TURNOVER_LACS</th>\n",
       "      <th>NO_OF_TRADES</th>\n",
       "      <th>DELIV_QTY</th>\n",
       "      <th>DELIV_PER</th>\n",
       "    </tr>\n",
       "  </thead>\n",
       "  <tbody>\n",
       "    <tr>\n",
       "      <th>0</th>\n",
       "      <td>2022-02-11 00:00:00</td>\n",
       "      <td>NETFLTGILT</td>\n",
       "      <td>22.40</td>\n",
       "      <td>22.02</td>\n",
       "      <td>22.48</td>\n",
       "      <td>22.02</td>\n",
       "      <td>22.25</td>\n",
       "      <td>22.27</td>\n",
       "      <td>22.25</td>\n",
       "      <td>16697</td>\n",
       "      <td>3.72</td>\n",
       "      <td>83</td>\n",
       "      <td>12968.0</td>\n",
       "      <td>77.67</td>\n",
       "    </tr>\n",
       "    <tr>\n",
       "      <th>1</th>\n",
       "      <td>2022-02-11 00:00:00</td>\n",
       "      <td>NETFMID150</td>\n",
       "      <td>116.02</td>\n",
       "      <td>119.50</td>\n",
       "      <td>119.50</td>\n",
       "      <td>113.61</td>\n",
       "      <td>114.10</td>\n",
       "      <td>113.95</td>\n",
       "      <td>114.68</td>\n",
       "      <td>224822</td>\n",
       "      <td>257.82</td>\n",
       "      <td>1780</td>\n",
       "      <td>200777.0</td>\n",
       "      <td>89.30</td>\n",
       "    </tr>\n",
       "    <tr>\n",
       "      <th>2</th>\n",
       "      <td>2022-02-11 00:00:00</td>\n",
       "      <td>NETFNIF100</td>\n",
       "      <td>183.49</td>\n",
       "      <td>178.50</td>\n",
       "      <td>184.98</td>\n",
       "      <td>178.50</td>\n",
       "      <td>182.05</td>\n",
       "      <td>182.22</td>\n",
       "      <td>182.07</td>\n",
       "      <td>2354</td>\n",
       "      <td>4.29</td>\n",
       "      <td>135</td>\n",
       "      <td>2140.0</td>\n",
       "      <td>90.91</td>\n",
       "    </tr>\n",
       "    <tr>\n",
       "      <th>3</th>\n",
       "      <td>2022-02-11 00:00:00</td>\n",
       "      <td>NETFDIVOPP</td>\n",
       "      <td>45.63</td>\n",
       "      <td>46.25</td>\n",
       "      <td>46.25</td>\n",
       "      <td>45.07</td>\n",
       "      <td>45.33</td>\n",
       "      <td>45.09</td>\n",
       "      <td>45.40</td>\n",
       "      <td>1239</td>\n",
       "      <td>0.56</td>\n",
       "      <td>86</td>\n",
       "      <td>1122.0</td>\n",
       "      <td>90.56</td>\n",
       "    </tr>\n",
       "    <tr>\n",
       "      <th>4</th>\n",
       "      <td>2022-02-11 00:00:00</td>\n",
       "      <td>NETFGILT5Y</td>\n",
       "      <td>49.66</td>\n",
       "      <td>49.66</td>\n",
       "      <td>49.82</td>\n",
       "      <td>49.47</td>\n",
       "      <td>49.82</td>\n",
       "      <td>49.79</td>\n",
       "      <td>49.72</td>\n",
       "      <td>82821</td>\n",
       "      <td>41.18</td>\n",
       "      <td>322</td>\n",
       "      <td>74512.0</td>\n",
       "      <td>89.97</td>\n",
       "    </tr>\n",
       "  </tbody>\n",
       "</table>\n",
       "</div>"
      ],
      "text/plain": [
       "                 DATE1      SYMBOL  PREV_CLOSE  OPEN_PRICE  HIGH_PRICE  \\\n",
       "0  2022-02-11 00:00:00  NETFLTGILT       22.40       22.02       22.48   \n",
       "1  2022-02-11 00:00:00  NETFMID150      116.02      119.50      119.50   \n",
       "2  2022-02-11 00:00:00  NETFNIF100      183.49      178.50      184.98   \n",
       "3  2022-02-11 00:00:00  NETFDIVOPP       45.63       46.25       46.25   \n",
       "4  2022-02-11 00:00:00  NETFGILT5Y       49.66       49.66       49.82   \n",
       "\n",
       "   LOW_PRICE  LAST_PRICE  CLOSE_PRICE  AVG_PRICE  TTL_TRD_QNTY  TURNOVER_LACS  \\\n",
       "0      22.02       22.25        22.27      22.25         16697           3.72   \n",
       "1     113.61      114.10       113.95     114.68        224822         257.82   \n",
       "2     178.50      182.05       182.22     182.07          2354           4.29   \n",
       "3      45.07       45.33        45.09      45.40          1239           0.56   \n",
       "4      49.47       49.82        49.79      49.72         82821          41.18   \n",
       "\n",
       "   NO_OF_TRADES  DELIV_QTY  DELIV_PER  \n",
       "0            83    12968.0      77.67  \n",
       "1          1780   200777.0      89.30  \n",
       "2           135     2140.0      90.91  \n",
       "3            86     1122.0      90.56  \n",
       "4           322    74512.0      89.97  "
      ]
     },
     "execution_count": 6,
     "metadata": {},
     "output_type": "execute_result"
    }
   ],
   "source": [
    "df_1.head()"
   ]
  },
  {
   "cell_type": "markdown",
   "id": "dd0d1135",
   "metadata": {},
   "source": [
    "# Data Preprocessing"
   ]
  },
  {
   "cell_type": "code",
   "execution_count": 7,
   "id": "444b8562",
   "metadata": {},
   "outputs": [
    {
     "name": "stdout",
     "output_type": "stream",
     "text": [
      "<class 'pandas.core.frame.DataFrame'>\n",
      "RangeIndex: 809339 entries, 0 to 809338\n",
      "Data columns (total 14 columns):\n",
      " #   Column         Non-Null Count   Dtype  \n",
      "---  ------         --------------   -----  \n",
      " 0   DATE1          809339 non-null  object \n",
      " 1   SYMBOL         809339 non-null  object \n",
      " 2   PREV_CLOSE     809339 non-null  float64\n",
      " 3   OPEN_PRICE     809339 non-null  float64\n",
      " 4   HIGH_PRICE     809339 non-null  float64\n",
      " 5   LOW_PRICE      809339 non-null  float64\n",
      " 6   LAST_PRICE     809339 non-null  float64\n",
      " 7   CLOSE_PRICE    809339 non-null  float64\n",
      " 8   AVG_PRICE      809339 non-null  float64\n",
      " 9   TTL_TRD_QNTY   809339 non-null  int64  \n",
      " 10  TURNOVER_LACS  809339 non-null  float64\n",
      " 11  NO_OF_TRADES   809339 non-null  int64  \n",
      " 12  DELIV_QTY      809336 non-null  float64\n",
      " 13  DELIV_PER      809336 non-null  float64\n",
      "dtypes: float64(10), int64(2), object(2)\n",
      "memory usage: 86.4+ MB\n"
     ]
    }
   ],
   "source": [
    "df_1.info()"
   ]
  },
  {
   "cell_type": "code",
   "execution_count": 9,
   "id": "9f1a458f",
   "metadata": {},
   "outputs": [
    {
     "name": "stdout",
     "output_type": "stream",
     "text": [
      "<class 'pandas.core.frame.DataFrame'>\n",
      "RangeIndex: 809339 entries, 0 to 809338\n",
      "Data columns (total 14 columns):\n",
      " #   Column         Non-Null Count   Dtype         \n",
      "---  ------         --------------   -----         \n",
      " 0   DATE1          809339 non-null  datetime64[ns]\n",
      " 1   SYMBOL         809339 non-null  object        \n",
      " 2   PREV_CLOSE     809339 non-null  float64       \n",
      " 3   OPEN_PRICE     809339 non-null  float64       \n",
      " 4   HIGH_PRICE     809339 non-null  float64       \n",
      " 5   LOW_PRICE      809339 non-null  float64       \n",
      " 6   LAST_PRICE     809339 non-null  float64       \n",
      " 7   CLOSE_PRICE    809339 non-null  float64       \n",
      " 8   AVG_PRICE      809339 non-null  float64       \n",
      " 9   TTL_TRD_QNTY   809339 non-null  int64         \n",
      " 10  TURNOVER_LACS  809339 non-null  float64       \n",
      " 11  NO_OF_TRADES   809339 non-null  int64         \n",
      " 12  DELIV_QTY      809336 non-null  float64       \n",
      " 13  DELIV_PER      809336 non-null  float64       \n",
      "dtypes: datetime64[ns](1), float64(10), int64(2), object(1)\n",
      "memory usage: 86.4+ MB\n"
     ]
    }
   ],
   "source": [
    "df_1.info()"
   ]
  },
  {
   "cell_type": "code",
   "execution_count": 10,
   "id": "a01bb780",
   "metadata": {},
   "outputs": [],
   "source": [
    "df_1 = df_1.dropna()"
   ]
  },
  {
   "cell_type": "code",
   "execution_count": 11,
   "id": "bdeced56",
   "metadata": {},
   "outputs": [
    {
     "data": {
      "text/plain": [
       "DATE1            0\n",
       "SYMBOL           0\n",
       "PREV_CLOSE       0\n",
       "OPEN_PRICE       0\n",
       "HIGH_PRICE       0\n",
       "LOW_PRICE        0\n",
       "LAST_PRICE       0\n",
       "CLOSE_PRICE      0\n",
       "AVG_PRICE        0\n",
       "TTL_TRD_QNTY     0\n",
       "TURNOVER_LACS    0\n",
       "NO_OF_TRADES     0\n",
       "DELIV_QTY        0\n",
       "DELIV_PER        0\n",
       "dtype: int64"
      ]
     },
     "execution_count": 11,
     "metadata": {},
     "output_type": "execute_result"
    }
   ],
   "source": [
    "df_1.isnull().sum()"
   ]
  },
  {
   "cell_type": "raw",
   "id": "0231503b",
   "metadata": {},
   "source": [
    "#Data set starting Date"
   ]
  },
  {
   "cell_type": "code",
   "execution_count": 12,
   "id": "06f7d9ec",
   "metadata": {},
   "outputs": [
    {
     "data": {
      "text/plain": [
       "Timestamp('2020-01-01 00:00:00')"
      ]
     },
     "execution_count": 12,
     "metadata": {},
     "output_type": "execute_result"
    }
   ],
   "source": [
    "df_1['DATE1'].min()"
   ]
  },
  {
   "cell_type": "code",
   "execution_count": 13,
   "id": "3baff9b5",
   "metadata": {},
   "outputs": [
    {
     "data": {
      "text/plain": [
       "Timestamp('2022-09-02 00:00:00')"
      ]
     },
     "execution_count": 13,
     "metadata": {},
     "output_type": "execute_result"
    }
   ],
   "source": [
    "df_1['DATE1'].max()"
   ]
  },
  {
   "cell_type": "code",
   "execution_count": 23,
   "id": "ea739196",
   "metadata": {},
   "outputs": [],
   "source": [
    "df_1.index = pd.to_datetime(df_1.index)"
   ]
  },
  {
   "cell_type": "code",
   "execution_count": 24,
   "id": "738ea082",
   "metadata": {},
   "outputs": [],
   "source": [
    "df_1 = df_1.sort_index()"
   ]
  },
  {
   "cell_type": "code",
   "execution_count": 18,
   "id": "853711de",
   "metadata": {},
   "outputs": [],
   "source": [
    "df_1.set_index('DATE1', inplace=True)"
   ]
  },
  {
   "cell_type": "code",
   "execution_count": 19,
   "id": "b259f9b3",
   "metadata": {},
   "outputs": [
    {
     "data": {
      "text/html": [
       "<div>\n",
       "<style scoped>\n",
       "    .dataframe tbody tr th:only-of-type {\n",
       "        vertical-align: middle;\n",
       "    }\n",
       "\n",
       "    .dataframe tbody tr th {\n",
       "        vertical-align: top;\n",
       "    }\n",
       "\n",
       "    .dataframe thead th {\n",
       "        text-align: right;\n",
       "    }\n",
       "</style>\n",
       "<table border=\"1\" class=\"dataframe\">\n",
       "  <thead>\n",
       "    <tr style=\"text-align: right;\">\n",
       "      <th></th>\n",
       "      <th>SYMBOL</th>\n",
       "      <th>PREV_CLOSE</th>\n",
       "      <th>OPEN_PRICE</th>\n",
       "      <th>HIGH_PRICE</th>\n",
       "      <th>LOW_PRICE</th>\n",
       "      <th>LAST_PRICE</th>\n",
       "      <th>CLOSE_PRICE</th>\n",
       "      <th>AVG_PRICE</th>\n",
       "      <th>TTL_TRD_QNTY</th>\n",
       "      <th>TURNOVER_LACS</th>\n",
       "      <th>NO_OF_TRADES</th>\n",
       "      <th>DELIV_QTY</th>\n",
       "      <th>DELIV_PER</th>\n",
       "    </tr>\n",
       "    <tr>\n",
       "      <th>DATE1</th>\n",
       "      <th></th>\n",
       "      <th></th>\n",
       "      <th></th>\n",
       "      <th></th>\n",
       "      <th></th>\n",
       "      <th></th>\n",
       "      <th></th>\n",
       "      <th></th>\n",
       "      <th></th>\n",
       "      <th></th>\n",
       "      <th></th>\n",
       "      <th></th>\n",
       "      <th></th>\n",
       "    </tr>\n",
       "  </thead>\n",
       "  <tbody>\n",
       "    <tr>\n",
       "      <th>2022-02-11</th>\n",
       "      <td>NETFLTGILT</td>\n",
       "      <td>22.40</td>\n",
       "      <td>22.02</td>\n",
       "      <td>22.48</td>\n",
       "      <td>22.02</td>\n",
       "      <td>22.25</td>\n",
       "      <td>22.27</td>\n",
       "      <td>22.25</td>\n",
       "      <td>16697</td>\n",
       "      <td>3.72</td>\n",
       "      <td>83</td>\n",
       "      <td>12968.0</td>\n",
       "      <td>77.67</td>\n",
       "    </tr>\n",
       "    <tr>\n",
       "      <th>2022-02-11</th>\n",
       "      <td>NETFMID150</td>\n",
       "      <td>116.02</td>\n",
       "      <td>119.50</td>\n",
       "      <td>119.50</td>\n",
       "      <td>113.61</td>\n",
       "      <td>114.10</td>\n",
       "      <td>113.95</td>\n",
       "      <td>114.68</td>\n",
       "      <td>224822</td>\n",
       "      <td>257.82</td>\n",
       "      <td>1780</td>\n",
       "      <td>200777.0</td>\n",
       "      <td>89.30</td>\n",
       "    </tr>\n",
       "    <tr>\n",
       "      <th>2022-02-11</th>\n",
       "      <td>NETFNIF100</td>\n",
       "      <td>183.49</td>\n",
       "      <td>178.50</td>\n",
       "      <td>184.98</td>\n",
       "      <td>178.50</td>\n",
       "      <td>182.05</td>\n",
       "      <td>182.22</td>\n",
       "      <td>182.07</td>\n",
       "      <td>2354</td>\n",
       "      <td>4.29</td>\n",
       "      <td>135</td>\n",
       "      <td>2140.0</td>\n",
       "      <td>90.91</td>\n",
       "    </tr>\n",
       "    <tr>\n",
       "      <th>2022-02-11</th>\n",
       "      <td>NETFDIVOPP</td>\n",
       "      <td>45.63</td>\n",
       "      <td>46.25</td>\n",
       "      <td>46.25</td>\n",
       "      <td>45.07</td>\n",
       "      <td>45.33</td>\n",
       "      <td>45.09</td>\n",
       "      <td>45.40</td>\n",
       "      <td>1239</td>\n",
       "      <td>0.56</td>\n",
       "      <td>86</td>\n",
       "      <td>1122.0</td>\n",
       "      <td>90.56</td>\n",
       "    </tr>\n",
       "    <tr>\n",
       "      <th>2022-02-11</th>\n",
       "      <td>NETFGILT5Y</td>\n",
       "      <td>49.66</td>\n",
       "      <td>49.66</td>\n",
       "      <td>49.82</td>\n",
       "      <td>49.47</td>\n",
       "      <td>49.82</td>\n",
       "      <td>49.79</td>\n",
       "      <td>49.72</td>\n",
       "      <td>82821</td>\n",
       "      <td>41.18</td>\n",
       "      <td>322</td>\n",
       "      <td>74512.0</td>\n",
       "      <td>89.97</td>\n",
       "    </tr>\n",
       "    <tr>\n",
       "      <th>...</th>\n",
       "      <td>...</td>\n",
       "      <td>...</td>\n",
       "      <td>...</td>\n",
       "      <td>...</td>\n",
       "      <td>...</td>\n",
       "      <td>...</td>\n",
       "      <td>...</td>\n",
       "      <td>...</td>\n",
       "      <td>...</td>\n",
       "      <td>...</td>\n",
       "      <td>...</td>\n",
       "      <td>...</td>\n",
       "      <td>...</td>\n",
       "    </tr>\n",
       "    <tr>\n",
       "      <th>2020-01-01</th>\n",
       "      <td>ORTINLABSS</td>\n",
       "      <td>9.90</td>\n",
       "      <td>10.15</td>\n",
       "      <td>10.15</td>\n",
       "      <td>9.80</td>\n",
       "      <td>9.85</td>\n",
       "      <td>9.80</td>\n",
       "      <td>9.84</td>\n",
       "      <td>5041</td>\n",
       "      <td>0.50</td>\n",
       "      <td>26</td>\n",
       "      <td>4283.0</td>\n",
       "      <td>84.96</td>\n",
       "    </tr>\n",
       "    <tr>\n",
       "      <th>2020-01-01</th>\n",
       "      <td>ORISSAMINE</td>\n",
       "      <td>1281.50</td>\n",
       "      <td>1270.00</td>\n",
       "      <td>1288.00</td>\n",
       "      <td>1259.35</td>\n",
       "      <td>1264.00</td>\n",
       "      <td>1265.60</td>\n",
       "      <td>1268.53</td>\n",
       "      <td>8230</td>\n",
       "      <td>104.40</td>\n",
       "      <td>626</td>\n",
       "      <td>4091.0</td>\n",
       "      <td>49.71</td>\n",
       "    </tr>\n",
       "    <tr>\n",
       "      <th>2020-01-01</th>\n",
       "      <td>OSWALAGRO</td>\n",
       "      <td>4.95</td>\n",
       "      <td>5.15</td>\n",
       "      <td>5.40</td>\n",
       "      <td>5.00</td>\n",
       "      <td>5.20</td>\n",
       "      <td>5.30</td>\n",
       "      <td>5.18</td>\n",
       "      <td>27820</td>\n",
       "      <td>1.44</td>\n",
       "      <td>143</td>\n",
       "      <td>17849.0</td>\n",
       "      <td>64.16</td>\n",
       "    </tr>\n",
       "    <tr>\n",
       "      <th>2020-01-01</th>\n",
       "      <td>PAISALO</td>\n",
       "      <td>433.00</td>\n",
       "      <td>429.95</td>\n",
       "      <td>438.00</td>\n",
       "      <td>427.45</td>\n",
       "      <td>429.95</td>\n",
       "      <td>428.85</td>\n",
       "      <td>432.68</td>\n",
       "      <td>37838</td>\n",
       "      <td>163.72</td>\n",
       "      <td>505</td>\n",
       "      <td>8873.0</td>\n",
       "      <td>23.45</td>\n",
       "    </tr>\n",
       "    <tr>\n",
       "      <th>2020-01-01</th>\n",
       "      <td>PAGEIND</td>\n",
       "      <td>23393.10</td>\n",
       "      <td>23350.00</td>\n",
       "      <td>23799.00</td>\n",
       "      <td>23241.10</td>\n",
       "      <td>23600.00</td>\n",
       "      <td>23602.15</td>\n",
       "      <td>23601.26</td>\n",
       "      <td>16716</td>\n",
       "      <td>3945.19</td>\n",
       "      <td>6464</td>\n",
       "      <td>2964.0</td>\n",
       "      <td>17.73</td>\n",
       "    </tr>\n",
       "  </tbody>\n",
       "</table>\n",
       "<p>809336 rows × 13 columns</p>\n",
       "</div>"
      ],
      "text/plain": [
       "                SYMBOL  PREV_CLOSE  OPEN_PRICE  HIGH_PRICE  LOW_PRICE  \\\n",
       "DATE1                                                                   \n",
       "2022-02-11  NETFLTGILT       22.40       22.02       22.48      22.02   \n",
       "2022-02-11  NETFMID150      116.02      119.50      119.50     113.61   \n",
       "2022-02-11  NETFNIF100      183.49      178.50      184.98     178.50   \n",
       "2022-02-11  NETFDIVOPP       45.63       46.25       46.25      45.07   \n",
       "2022-02-11  NETFGILT5Y       49.66       49.66       49.82      49.47   \n",
       "...                ...         ...         ...         ...        ...   \n",
       "2020-01-01  ORTINLABSS        9.90       10.15       10.15       9.80   \n",
       "2020-01-01  ORISSAMINE     1281.50     1270.00     1288.00    1259.35   \n",
       "2020-01-01   OSWALAGRO        4.95        5.15        5.40       5.00   \n",
       "2020-01-01     PAISALO      433.00      429.95      438.00     427.45   \n",
       "2020-01-01     PAGEIND    23393.10    23350.00    23799.00   23241.10   \n",
       "\n",
       "            LAST_PRICE  CLOSE_PRICE  AVG_PRICE  TTL_TRD_QNTY  TURNOVER_LACS  \\\n",
       "DATE1                                                                         \n",
       "2022-02-11       22.25        22.27      22.25         16697           3.72   \n",
       "2022-02-11      114.10       113.95     114.68        224822         257.82   \n",
       "2022-02-11      182.05       182.22     182.07          2354           4.29   \n",
       "2022-02-11       45.33        45.09      45.40          1239           0.56   \n",
       "2022-02-11       49.82        49.79      49.72         82821          41.18   \n",
       "...                ...          ...        ...           ...            ...   \n",
       "2020-01-01        9.85         9.80       9.84          5041           0.50   \n",
       "2020-01-01     1264.00      1265.60    1268.53          8230         104.40   \n",
       "2020-01-01        5.20         5.30       5.18         27820           1.44   \n",
       "2020-01-01      429.95       428.85     432.68         37838         163.72   \n",
       "2020-01-01    23600.00     23602.15   23601.26         16716        3945.19   \n",
       "\n",
       "            NO_OF_TRADES  DELIV_QTY  DELIV_PER  \n",
       "DATE1                                           \n",
       "2022-02-11            83    12968.0      77.67  \n",
       "2022-02-11          1780   200777.0      89.30  \n",
       "2022-02-11           135     2140.0      90.91  \n",
       "2022-02-11            86     1122.0      90.56  \n",
       "2022-02-11           322    74512.0      89.97  \n",
       "...                  ...        ...        ...  \n",
       "2020-01-01            26     4283.0      84.96  \n",
       "2020-01-01           626     4091.0      49.71  \n",
       "2020-01-01           143    17849.0      64.16  \n",
       "2020-01-01           505     8873.0      23.45  \n",
       "2020-01-01          6464     2964.0      17.73  \n",
       "\n",
       "[809336 rows x 13 columns]"
      ]
     },
     "execution_count": 19,
     "metadata": {},
     "output_type": "execute_result"
    }
   ],
   "source": [
    "df_1"
   ]
  },
  {
   "cell_type": "markdown",
   "id": "a09c77ac",
   "metadata": {},
   "source": [
    "#Stock data Analysis From Feb 2022 to Jan 2020\n",
    "# Top 10 Stocks Performance and Top 10 Stocks Non_Performance"
   ]
  },
  {
   "cell_type": "code",
   "execution_count": 85,
   "id": "3982460e",
   "metadata": {},
   "outputs": [
    {
     "name": "stdout",
     "output_type": "stream",
     "text": [
      "Top 10 Performing Stock in Jan 2022\n",
      "            count           mean\n",
      "SYMBOL                          \n",
      "RELIANCE       16  163576.203125\n",
      "TCS            16  138287.380625\n",
      "INFY           16  136848.767500\n",
      "HDFCBANK       16  129682.083750\n",
      "BAJFINANCE     16  121344.305000\n",
      "TATAMOTORS     16  118322.496250\n",
      "ICICIBANK      16  117055.693125\n",
      "AXISBANK       16  112123.322500\n",
      "SBIN           16   99785.960625\n",
      "TATASTEEL      16   92938.979375\n"
     ]
    }
   ],
   "source": [
    "#Jan 2020\n",
    "df_2 = df_1['2022-01']\n",
    "result_1 = df_2.groupby(df_2[\"SYMBOL\"]).TURNOVER_LACS.agg([\"count\",\"mean\"])\n",
    "print(\"Top 10 Performing Stock in Jan 2022\")\n",
    "Good_1 = result_1.nlargest(10, ['mean'])\n",
    "print(Good_1)"
   ]
  },
  {
   "cell_type": "code",
   "execution_count": 21,
   "id": "9a8a2e06",
   "metadata": {},
   "outputs": [
    {
     "name": "stdout",
     "output_type": "stream",
     "text": [
      "Top 10 Non-Performing Stock in Jan 2022\n",
      "            count      mean\n",
      "SYMBOL                     \n",
      "SELMC          16  0.072500\n",
      "SETF10GILT     16  0.347500\n",
      "RADAAN          7  0.382857\n",
      "IDFNIFTYET     16  0.756875\n",
      "NATNLSTEEL      1  0.820000\n",
      "UNITEDPOLY     16  0.941250\n",
      "DCMFINSERV      3  0.993333\n",
      "IVZINNIFTY     16  1.206875\n",
      "QNIFTY         16  1.243750\n",
      "NAGREEKCAP     16  1.286250\n"
     ]
    }
   ],
   "source": [
    "print(\"Top 10 Non-Performing Stock in Jan 2022\")\n",
    "bad_1 = result_1.nsmallest(10, ['mean'])\n",
    "print(bad_1)"
   ]
  },
  {
   "cell_type": "code",
   "execution_count": 25,
   "id": "7f0261a3",
   "metadata": {},
   "outputs": [
    {
     "name": "stdout",
     "output_type": "stream",
     "text": [
      "Top 10 Performing Stock in Feb 2022\n",
      "            count           mean\n",
      "SYMBOL                          \n",
      "AWL             2  278763.205000\n",
      "RELIANCE        3  140502.526667\n",
      "HDFC            3  121360.333333\n",
      "TATASTEEL       3  108607.143333\n",
      "ICICIBANK       3  100423.726667\n",
      "TCS             3   99511.586667\n",
      "HDFCBANK        3   98911.630000\n",
      "SBIN            3   98295.600000\n",
      "AXISBANK        3   96768.366667\n",
      "ADANIPOWER      3   95741.350000\n"
     ]
    }
   ],
   "source": [
    "df_3 = df_1['2022-02']\n",
    "result_2 = df_3.groupby(df_3[\"SYMBOL\"]).TURNOVER_LACS.agg([\"count\",\"mean\"])\n",
    "print(\"Top 10 Performing Stock in Feb 2022\")\n",
    "Good_2 = result_2.nlargest(10, ['mean'])\n",
    "print(Good_2)"
   ]
  },
  {
   "cell_type": "code",
   "execution_count": 26,
   "id": "5c2fc8f7",
   "metadata": {},
   "outputs": [
    {
     "name": "stdout",
     "output_type": "stream",
     "text": [
      "Top 10 Non-Performing Stock in Feb 2022\n",
      "            count      mean\n",
      "SYMBOL                     \n",
      "SELMC           3  0.053333\n",
      "ICICICONSU      3  0.223333\n",
      "SETF10GILT      3  0.273333\n",
      "QNIFTY          3  0.533333\n",
      "UTISXN50        3  0.600000\n",
      "DSPN50ETF       3  0.610000\n",
      "IVZINNIFTY      3  0.636667\n",
      "NCPSESDL24      3  0.733333\n",
      "IDFNIFTYET      3  0.833333\n",
      "TCIDEVELOP      3  0.893333\n"
     ]
    }
   ],
   "source": [
    "print(\"Top 10 Non-Performing Stock in Feb 2022\")\n",
    "bad_2 = result_2.nsmallest(10, ['mean'])\n",
    "print(bad_2)"
   ]
  },
  {
   "cell_type": "code",
   "execution_count": 27,
   "id": "bf9a3568",
   "metadata": {},
   "outputs": [
    {
     "name": "stdout",
     "output_type": "stream",
     "text": [
      "Top 10 Performing Stock in Dec 2021\n",
      "            count           mean\n",
      "SYMBOL                          \n",
      "RELIANCE       16  137109.189375\n",
      "CMSINFO         1  117331.300000\n",
      "INFY           16   89621.806875\n",
      "ICICIBANK      16   88095.126875\n",
      "TATAMOTORS     16   85138.056875\n",
      "ZEEL           16   84708.698750\n",
      "BAJFINANCE     16   83934.278125\n",
      "SUPRIYA         4   75177.027500\n",
      "IBULHSGFIN     16   70747.028125\n",
      "TCS            16   69714.686875\n"
     ]
    }
   ],
   "source": [
    "df_4 = df_1['2021-12']\n",
    "result_3 = df_4.groupby(df_4[\"SYMBOL\"]).TURNOVER_LACS.agg([\"count\",\"mean\"])\n",
    "print(\"Top 10 Performing Stock in Dec 2021\")\n",
    "Good_3 = result_3.nlargest(10, ['mean'])\n",
    "print(Good_3)"
   ]
  },
  {
   "cell_type": "code",
   "execution_count": 28,
   "id": "e6586436",
   "metadata": {},
   "outputs": [
    {
     "name": "stdout",
     "output_type": "stream",
     "text": [
      "Top 10 Non-Performing Stock in Dec 2021\n",
      "            count      mean\n",
      "SYMBOL                     \n",
      "SELMC          16  0.008125\n",
      "SHYAMTEL        4  0.285000\n",
      "EUROTEXIND      3  0.323333\n",
      "SETF10GILT     15  0.412667\n",
      "UNITEDPOLY      1  0.520000\n",
      "IVZINNIFTY     14  0.610714\n",
      "ICICICONSU     16  0.681250\n",
      "IDFNIFTYET     16  0.681250\n",
      "NKIND          16  0.941875\n",
      "S&SPOWER       11  0.975455\n"
     ]
    }
   ],
   "source": [
    "print(\"Top 10 Non-Performing Stock in Dec 2021\")\n",
    "bad_3 = result_3.nsmallest(10, ['mean'])\n",
    "print(bad_3)"
   ]
  },
  {
   "cell_type": "code",
   "execution_count": 29,
   "id": "db2c75ff",
   "metadata": {},
   "outputs": [
    {
     "name": "stdout",
     "output_type": "stream",
     "text": [
      "Top 10 Performing Stock in Nov 2021\n",
      "            count           mean\n",
      "SYMBOL                          \n",
      "PAYTM           8  221589.385000\n",
      "GOCOLORS        1  220301.890000\n",
      "RELIANCE       14  198072.374286\n",
      "TATAMOTORS     14  170636.453571\n",
      "VEDL           14  166087.950714\n",
      "TATAPOWER      14  164673.676429\n",
      "TATASTEEL      14  135813.339286\n",
      "ICICIBANK      14  126387.495714\n",
      "ZOMATO         14  121724.290714\n",
      "NYKAA          14  110816.721429\n"
     ]
    }
   ],
   "source": [
    "df_5 = df_1['2021-11']\n",
    "result_4 = df_5.groupby(df_5[\"SYMBOL\"]).TURNOVER_LACS.agg([\"count\",\"mean\"])\n",
    "print(\"Top 10 Performing Stock in Nov 2021\")\n",
    "Good_4 = result_4.nlargest(10, ['mean'])\n",
    "print(Good_4)"
   ]
  },
  {
   "cell_type": "code",
   "execution_count": 30,
   "id": "4028305c",
   "metadata": {},
   "outputs": [
    {
     "name": "stdout",
     "output_type": "stream",
     "text": [
      "Top 10 Non-Performing Stock in Nov 2021\n",
      "            count      mean\n",
      "SYMBOL                     \n",
      "SELMC          12  0.018333\n",
      "DIGJAMLMTD     14  0.172143\n",
      "BLUECOAST       8  0.228750\n",
      "SETF10GILT     14  0.312857\n",
      "SABEVENTS       6  0.353333\n",
      "NKIND          14  0.415000\n",
      "SHYAMTEL       14  0.716429\n",
      "3PLAND         14  0.852857\n",
      "DBSTOCKBRO     14  0.920714\n",
      "NEXTMEDIA      14  0.946429\n"
     ]
    }
   ],
   "source": [
    "print(\"Top 10 Non-Performing Stock in Nov 2021\")\n",
    "bad_4 = result_4.nsmallest(10, ['mean'])\n",
    "print(bad_4)"
   ]
  },
  {
   "cell_type": "code",
   "execution_count": 33,
   "id": "1693c853",
   "metadata": {},
   "outputs": [
    {
     "name": "stdout",
     "output_type": "stream",
     "text": [
      "Top 10 Performing Stock in Oct 2021\n",
      "            count           mean\n",
      "SYMBOL                          \n",
      "IRCTC          14  459365.949286\n",
      "TATAMOTORS     14  332955.605000\n",
      "TATAPOWER      14  327386.418571\n",
      "IEX            14  175837.137143\n",
      "TCS            14  154530.366429\n",
      "ICICIBANK      14  151802.817143\n",
      "RELIANCE       14  147030.993571\n",
      "INFY           14  145049.103571\n",
      "SBIN           14  128536.025000\n",
      "AXISBANK       14  112504.276429\n"
     ]
    }
   ],
   "source": [
    "df_6 = df_1['2021-10']\n",
    "result_5 = df_6.groupby(df_6[\"SYMBOL\"]).TURNOVER_LACS.agg([\"count\",\"mean\"])\n",
    "print(\"Top 10 Performing Stock in Oct 2021\")\n",
    "Good_5 = result_5.nlargest(10, ['mean'])\n",
    "print(Good_5)"
   ]
  },
  {
   "cell_type": "code",
   "execution_count": 34,
   "id": "57a77443",
   "metadata": {},
   "outputs": [
    {
     "name": "stdout",
     "output_type": "stream",
     "text": [
      "Top 10 Non-Performing Stock in Oct 2021\n",
      "            count      mean\n",
      "SYMBOL                     \n",
      "GFSTEELS        1  0.020000\n",
      "GISOLUTION      2  0.025000\n",
      "PDPL           10  0.045000\n",
      "PANSARI         6  0.045000\n",
      "NETFGILT5Y     14  0.101429\n",
      "PRADIP          4  0.117500\n",
      "SETF10GILT     14  0.332143\n",
      "HOTELRUGBY     13  0.429231\n",
      "DCMFINSERV     13  0.548462\n",
      "NCPSESDL24     14  0.556429\n"
     ]
    }
   ],
   "source": [
    "print(\"Top 10 Non-Performing Stock in Oct 2021\")\n",
    "bad_5 = result_5.nsmallest(10, ['mean'])\n",
    "print(bad_5)"
   ]
  },
  {
   "cell_type": "code",
   "execution_count": 35,
   "id": "023da13a",
   "metadata": {},
   "outputs": [
    {
     "name": "stdout",
     "output_type": "stream",
     "text": [
      "Top 10 Performing Stock in Sept 2021\n",
      "            count           mean\n",
      "SYMBOL                          \n",
      "ZEEL           23  161068.648261\n",
      "IRCTC          23  150797.846957\n",
      "RELIANCE       23  150363.103913\n",
      "TATASTEEL      23  149702.444783\n",
      "BHARTIARTL     23  143468.613043\n",
      "TATAMOTORS     23  128713.867826\n",
      "HDFCBANK       23  108297.302174\n",
      "SBIN           23  105038.902609\n",
      "BAJFINANCE     23   96280.454783\n",
      "TCS            23   88273.578696\n"
     ]
    }
   ],
   "source": [
    "df_7 = df_1['2021-9']\n",
    "result_6 = df_7.groupby(df_7[\"SYMBOL\"]).TURNOVER_LACS.agg([\"count\",\"mean\"])\n",
    "print(\"Top 10 Performing Stock in Sept 2021\")\n",
    "Good_6 = result_6.nlargest(10, ['mean'])\n",
    "print(Good_6)"
   ]
  },
  {
   "cell_type": "code",
   "execution_count": 39,
   "id": "56fa68ed",
   "metadata": {},
   "outputs": [
    {
     "name": "stdout",
     "output_type": "stream",
     "text": [
      "Top 10 Non-Performing Stock in Sept 2021\n",
      "            count   mean\n",
      "SYMBOL                  \n",
      "SELMC           1  0.000\n",
      "SHAHALLOYS      1  0.000\n",
      "KAVVERITEL      1  0.010\n",
      "PROINDIA        2  0.010\n",
      "BLUECOAST       2  0.025\n",
      "IMPEXFERRO      1  0.030\n",
      "GFSTEELS       10  0.044\n",
      "METALFORGE      1  0.090\n",
      "OILCOUNTUB      1  0.100\n",
      "INTEGRA         1  0.120\n"
     ]
    }
   ],
   "source": [
    "print(\"Top 10 Non-Performing Stock in Sept 2021\")\n",
    "bad_6 = result_6.nsmallest(10, ['mean'])\n",
    "print(bad_6)"
   ]
  },
  {
   "cell_type": "code",
   "execution_count": 37,
   "id": "fa7ac1d6",
   "metadata": {},
   "outputs": [
    {
     "name": "stdout",
     "output_type": "stream",
     "text": [
      "Top 10 Performing Stock in Aug 2021\n",
      "            count         mean\n",
      "SYMBOL                        \n",
      "TATASTEEL      25  206794.5624\n",
      "NYKAA           1  178789.4800\n",
      "RELIANCE       25  147716.7528\n",
      "TATAMOTORS     25  123341.0456\n",
      "SBIN           25  107583.6208\n",
      "INFY           25  103837.7792\n",
      "BHARTIARTL     25  101559.7860\n",
      "BAJFINANCE     25   99194.9296\n",
      "TCS            25   97996.3480\n",
      "IRCTC          25   95161.3104\n"
     ]
    }
   ],
   "source": [
    "df_8 = df_1['2021-8']\n",
    "result_7 = df_8.groupby(df_8[\"SYMBOL\"]).TURNOVER_LACS.agg([\"count\",\"mean\"])\n",
    "print(\"Top 10 Performing Stock in Aug 2021\")\n",
    "Good_7 = result_7.nlargest(10, ['mean'])\n",
    "print(Good_7)"
   ]
  },
  {
   "cell_type": "code",
   "execution_count": 38,
   "id": "43bbc48e",
   "metadata": {},
   "outputs": [
    {
     "name": "stdout",
     "output_type": "stream",
     "text": [
      "Top 10 Non-Performing Stock in Aug 2021\n",
      "            count      mean\n",
      "SYMBOL                     \n",
      "KAVVERITEL      2  0.000000\n",
      "SELMC           1  0.000000\n",
      "GFSTEELS        1  0.010000\n",
      "IMPEXFERRO      1  0.010000\n",
      "SABTN           1  0.020000\n",
      "INTEGRA         1  0.050000\n",
      "PROINDIA        2  0.075000\n",
      "SANGHVIFOR      1  0.080000\n",
      "PANSARI         1  0.090000\n",
      "GISOLUTION      3  0.093333\n"
     ]
    }
   ],
   "source": [
    "print(\"Top 10 Non-Performing Stock in Aug 2021\")\n",
    "bad_7 = result_7.nsmallest(10, ['mean'])\n",
    "print(bad_7)"
   ]
  },
  {
   "cell_type": "code",
   "execution_count": 40,
   "id": "71c71f4b",
   "metadata": {},
   "outputs": [
    {
     "name": "stdout",
     "output_type": "stream",
     "text": [
      "Top 10 Performing Stock in July 2021\n",
      "            count           mean\n",
      "SYMBOL                          \n",
      "ZOMATO          9  236694.708889\n",
      "TATASTEEL      22  171116.922273\n",
      "TATAMOTORS     22  137170.868182\n",
      "RELIANCE       22  117991.054545\n",
      "ADANIPORTS     22  108524.110455\n",
      "HDFCBANK       22  107064.615909\n",
      "ICICIBANK      22   94610.908182\n",
      "BAJFINANCE     22   91894.945000\n",
      "INFY           22   87355.983182\n",
      "BHARTIARTL     22   80479.874545\n"
     ]
    }
   ],
   "source": [
    "df_9 = df_1['2021-7']\n",
    "result_8 = df_9.groupby(df_9[\"SYMBOL\"]).TURNOVER_LACS.agg([\"count\",\"mean\"])\n",
    "print(\"Top 10 Performing Stock in July 2021\")\n",
    "Good_8 = result_8.nlargest(10, ['mean'])\n",
    "print(Good_8)"
   ]
  },
  {
   "cell_type": "code",
   "execution_count": 43,
   "id": "d7c45a83",
   "metadata": {},
   "outputs": [
    {
     "name": "stdout",
     "output_type": "stream",
     "text": [
      "Top 10 Non-Performing Stock in July 2021\n",
      "            count      mean\n",
      "SYMBOL                     \n",
      "SELMC           1  0.000000\n",
      "GISOLUTION      2  0.030000\n",
      "GFSTEELS        6  0.031667\n",
      "BLUECOAST       7  0.055714\n",
      "KAVVERITEL      8  0.056250\n",
      "TCIFINANCE      1  0.060000\n",
      "EUROTEXIND      5  0.068000\n",
      "WEALTH          1  0.090000\n",
      "PROINDIA        7  0.107143\n",
      "ROHITFERRO      1  0.130000\n"
     ]
    }
   ],
   "source": [
    "print(\"Top 10 Non-Performing Stock in July 2021\")\n",
    "bad_8 = result_8.nsmallest(10, ['mean'])\n",
    "print(bad_8)"
   ]
  },
  {
   "cell_type": "code",
   "execution_count": 42,
   "id": "b21739db",
   "metadata": {},
   "outputs": [
    {
     "name": "stdout",
     "output_type": "stream",
     "text": [
      "Top 10 Performing Stock in June 2021\n",
      "            count           mean\n",
      "SYMBOL                          \n",
      "RELIANCE       23  230739.336957\n",
      "ADANIPORTS     23  206250.234783\n",
      "ADANIENT       23  177525.599565\n",
      "TATASTEEL      23  162011.300870\n",
      "TATAMOTORS     23  118562.201739\n",
      "BAJFINANCE     23  116434.230870\n",
      "SBIN           23  110306.594348\n",
      "INFY           23   95277.494348\n",
      "ICICIBANK      23   85380.295652\n",
      "HDFCBANK       23   84978.960435\n"
     ]
    }
   ],
   "source": [
    "df_10 = df_1['2021-6']\n",
    "result_9 = df_10.groupby(df_10[\"SYMBOL\"]).TURNOVER_LACS.agg([\"count\",\"mean\"])\n",
    "print(\"Top 10 Performing Stock in June 2021\")\n",
    "Good_9 = result_9.nlargest(10, ['mean'])\n",
    "print(Good_9)"
   ]
  },
  {
   "cell_type": "code",
   "execution_count": 44,
   "id": "b9fabb94",
   "metadata": {},
   "outputs": [
    {
     "name": "stdout",
     "output_type": "stream",
     "text": [
      "Top 10 Non-Performing Stock in June 2021\n",
      "            count      mean\n",
      "SYMBOL                     \n",
      "SELMC           1  0.010000\n",
      "PROINDIA       16  0.024375\n",
      "SABEVENTS       1  0.030000\n",
      "GFSTEELS        1  0.040000\n",
      "KAVVERITEL      1  0.040000\n",
      "TCIFINANCE      1  0.040000\n",
      "GISOLUTION      2  0.055000\n",
      "WSI             1  0.090000\n",
      "ROHITFERRO      1  0.100000\n",
      "SABTN           4  0.120000\n"
     ]
    }
   ],
   "source": [
    "print(\"Top 10 Non-Performing Stock in June 2021\")\n",
    "bad_9 = result_9.nsmallest(10, ['mean'])\n",
    "print(bad_9)"
   ]
  },
  {
   "cell_type": "code",
   "execution_count": 47,
   "id": "8928bcdc",
   "metadata": {},
   "outputs": [
    {
     "name": "stdout",
     "output_type": "stream",
     "text": [
      "Top 10 Performing Stock in May 2021\n",
      "            count           mean\n",
      "SYMBOL                          \n",
      "SBIN           23  269770.567826\n",
      "TATASTEEL      23  238368.920435\n",
      "RELIANCE       23  177960.563913\n",
      "TATAMOTORS     23  175021.533913\n",
      "BAJFINANCE     23  120071.790000\n",
      "HDFCBANK       23  115775.718696\n",
      "ICICIBANK      23  110971.417391\n",
      "AXISBANK       23  106489.606087\n",
      "SAIL           23   97637.755217\n",
      "ADANIENT       23   93969.254783\n",
      "HDFC           23   92441.000435\n"
     ]
    }
   ],
   "source": [
    "df_11 = df_1['2021-5']\n",
    "result_10 = df_11.groupby(df_11[\"SYMBOL\"]).TURNOVER_LACS.agg([\"count\",\"mean\"])\n",
    "print(\"Top 10 Performing Stock in May 2021\")\n",
    "Good_10 = result_10.nlargest(11, ['mean'])\n",
    "print(Good_10)"
   ]
  },
  {
   "cell_type": "code",
   "execution_count": 46,
   "id": "22a52abc",
   "metadata": {},
   "outputs": [
    {
     "name": "stdout",
     "output_type": "stream",
     "text": [
      "Top 10 Non-Performing Stock in May 2021\n",
      "            count      mean\n",
      "SYMBOL                     \n",
      "KAVVERITEL      1  0.020000\n",
      "INTEGRA         1  0.030000\n",
      "ROHITFERRO      8  0.052500\n",
      "ARVEE           1  0.060000\n",
      "GFSTEELS        1  0.090000\n",
      "GISOLUTION     16  0.103125\n",
      "TFL            16  0.103750\n",
      "PROINDIA        1  0.120000\n",
      "TECHIN          9  0.131111\n",
      "PREMIER        10  0.197000\n"
     ]
    }
   ],
   "source": [
    "print(\"Top 10 Non-Performing Stock in May 2021\")\n",
    "bad_10 = result_10.nsmallest(10, ['mean'])\n",
    "print(bad_10)"
   ]
  },
  {
   "cell_type": "code",
   "execution_count": 49,
   "id": "e4df566e",
   "metadata": {},
   "outputs": [
    {
     "name": "stdout",
     "output_type": "stream",
     "text": [
      "Top 10 Performing Stock in April 2021\n",
      "            count         mean\n",
      "SYMBOL                        \n",
      "TATASTEEL      20  207183.6815\n",
      "SBIN           20  205111.5215\n",
      "BAJFINANCE     20  180549.3365\n",
      "TATAMOTORS     20  176973.1325\n",
      "RELIANCE       20  167925.2325\n",
      "ICICIBANK      20  164287.1810\n",
      "HDFCBANK       20  161655.9245\n",
      "ADANIPORTS     20  153655.6665\n",
      "AXISBANK       20  132673.4890\n",
      "INFY           20  123198.9975\n"
     ]
    }
   ],
   "source": [
    "df_12 = df_1['2021-4']\n",
    "result_11 = df_12.groupby(df_12[\"SYMBOL\"]).TURNOVER_LACS.agg([\"count\",\"mean\"])\n",
    "print(\"Top 10 Performing Stock in April 2021\")\n",
    "Good_11 = result_11.nlargest(10, ['mean'])\n",
    "print(Good_11)"
   ]
  },
  {
   "cell_type": "code",
   "execution_count": 50,
   "id": "1691135c",
   "metadata": {},
   "outputs": [
    {
     "name": "stdout",
     "output_type": "stream",
     "text": [
      "Top 10 Non-Performing Stock in April 2021\n",
      "            count      mean\n",
      "SYMBOL                     \n",
      "PROINDIA        1  0.010000\n",
      "BLUECHIP        4  0.045000\n",
      "CNOVAPETRO      1  0.050000\n",
      "GISOLUTION      7  0.100000\n",
      "GFSTEELS        1  0.100000\n",
      "SHYAMTEL        1  0.120000\n",
      "INTEGRA         1  0.130000\n",
      "EBANK           9  0.153333\n",
      "DCMFINSERV      7  0.181429\n",
      "TECHIN          6  0.186667\n"
     ]
    }
   ],
   "source": [
    "print(\"Top 10 Non-Performing Stock in April 2021\")\n",
    "bad_11 = result_11.nsmallest(10, ['mean'])\n",
    "print(bad_11)"
   ]
  },
  {
   "cell_type": "code",
   "execution_count": 51,
   "id": "dc1f8c24",
   "metadata": {},
   "outputs": [
    {
     "name": "stdout",
     "output_type": "stream",
     "text": [
      "Top 10 Performing Stock in March 2021\n",
      "            count           mean\n",
      "SYMBOL                          \n",
      "RELIANCE       23  198943.805217\n",
      "TATAMOTORS     23  189897.280000\n",
      "SBIN           23  172641.011304\n",
      "TATASTEEL      23  149474.974783\n",
      "ICICIBANK      23  124121.236522\n",
      "HDFCBANK       23  121860.081739\n",
      "BAJFINANCE     23  106758.881304\n",
      "AXISBANK       23  105738.781739\n",
      "INFY           23  102289.973913\n",
      "HDFC           23   98085.068696\n"
     ]
    }
   ],
   "source": [
    "df_13 = df_1['2021-3']\n",
    "result_12 = df_13.groupby(df_13[\"SYMBOL\"]).TURNOVER_LACS.agg([\"count\",\"mean\"])\n",
    "print(\"Top 10 Performing Stock in March 2021\")\n",
    "Good_12 = result_12.nlargest(10, ['mean'])\n",
    "print(Good_12)"
   ]
  },
  {
   "cell_type": "code",
   "execution_count": 52,
   "id": "c5f27965",
   "metadata": {},
   "outputs": [
    {
     "name": "stdout",
     "output_type": "stream",
     "text": [
      "Top 10 Non-Performing Stock in March 2021\n",
      "            count      mean\n",
      "SYMBOL                     \n",
      "SELMC           1  0.000000\n",
      "CNOVAPETRO      1  0.020000\n",
      "ROHITFERRO      1  0.020000\n",
      "PROINDIA        1  0.040000\n",
      "KAVVERITEL      1  0.100000\n",
      "KAPSTON         3  0.123333\n",
      "SABTN          10  0.145000\n",
      "SABEVENTS      18  0.164444\n",
      "GISOLUTION     13  0.173077\n",
      "INTEGRA         1  0.190000\n"
     ]
    }
   ],
   "source": [
    "print(\"Top 10 Non-Performing Stock in March 2021\")\n",
    "bad_12 = result_12.nsmallest(10, ['mean'])\n",
    "print(bad_12)"
   ]
  },
  {
   "cell_type": "code",
   "execution_count": 53,
   "id": "bd64d9d6",
   "metadata": {},
   "outputs": [
    {
     "name": "stdout",
     "output_type": "stream",
     "text": [
      "Top 10 Performing Stock in Feb 2021\n",
      "            count           mean\n",
      "SYMBOL                          \n",
      "TATAMOTORS     21  231015.770000\n",
      "RELIANCE       21  215506.707143\n",
      "SBIN           21  193216.689524\n",
      "ICICIBANK      21  149805.705238\n",
      "TATASTEEL      21  148506.723333\n",
      "BHARTIARTL     21  148117.426190\n",
      "HDFCBANK       21  131381.746190\n",
      "AXISBANK       21  119194.635714\n",
      "BAJFINANCE     21  117015.701429\n",
      "HDFC           21  104729.358095\n"
     ]
    }
   ],
   "source": [
    "df_14 = df_1['2021-2']\n",
    "result_13 = df_14.groupby(df_14[\"SYMBOL\"]).TURNOVER_LACS.agg([\"count\",\"mean\"])\n",
    "print(\"Top 10 Performing Stock in Feb 2021\")\n",
    "Good_13 = result_13.nlargest(10, ['mean'])\n",
    "print(Good_13)"
   ]
  },
  {
   "cell_type": "code",
   "execution_count": 56,
   "id": "83bad5af",
   "metadata": {},
   "outputs": [
    {
     "name": "stdout",
     "output_type": "stream",
     "text": [
      "Top 10 Non-Performing Stock in feb 2021\n",
      "            count      mean\n",
      "SYMBOL                     \n",
      "SELMC           1  0.000000\n",
      "PROINDIA        1  0.010000\n",
      "KAVVERITEL      1  0.020000\n",
      "NETFGILT5Y      6  0.051667\n",
      "PANSARI         1  0.080000\n",
      "GISOLUTION     15  0.104000\n",
      "SABEVENTS      16  0.120000\n",
      "TFL             3  0.146667\n",
      "INTEGRA        12  0.155833\n",
      "GBGLOBAL       15  0.182667\n"
     ]
    }
   ],
   "source": [
    "print(\"Top 10 Non-Performing Stock in feb 2021\")\n",
    "bad_13 = result_13.nsmallest(10, ['mean'])\n",
    "print(bad_13)"
   ]
  },
  {
   "cell_type": "code",
   "execution_count": 57,
   "id": "e511823f",
   "metadata": {},
   "outputs": [
    {
     "name": "stdout",
     "output_type": "stream",
     "text": [
      "Top 10 Performing Stock in Jan 2021\n",
      "            count           mean\n",
      "SYMBOL                          \n",
      "TATAMOTORS     24  363618.599167\n",
      "RELIANCE       24  249420.984583\n",
      "BAJFINANCE     24  152179.152500\n",
      "HDFCBANK       24  141951.084167\n",
      "TATASTEEL      24  135980.943750\n",
      "BHARTIARTL     24  126352.802083\n",
      "SBIN           24  125002.126250\n",
      "INFY           24  121982.827500\n",
      "ICICIBANK      24  119374.884167\n",
      "HDFC           24  114909.679167\n"
     ]
    }
   ],
   "source": [
    "df_15 = df_1['2021-1']\n",
    "result_14 = df_15.groupby(df_15[\"SYMBOL\"]).TURNOVER_LACS.agg([\"count\",\"mean\"])\n",
    "print(\"Top 10 Performing Stock in Jan 2021\")\n",
    "Good_14 = result_14.nlargest(10, ['mean'])\n",
    "print(Good_14)"
   ]
  },
  {
   "cell_type": "code",
   "execution_count": 58,
   "id": "c866734a",
   "metadata": {},
   "outputs": [
    {
     "name": "stdout",
     "output_type": "stream",
     "text": [
      "Top 10 Non-Performing Stock in Jan 2021\n",
      "            count      mean\n",
      "SYMBOL                     \n",
      "PROINDIA        1  0.000000\n",
      "GFSTEELS        1  0.010000\n",
      "SABEVENTS       3  0.126667\n",
      "GBGLOBAL        2  0.150000\n",
      "NETFGILT5Y      6  0.173333\n",
      "BSLSENETFG      2  0.240000\n",
      "KAPSTON         2  0.275000\n",
      "GISOLUTION      3  0.276667\n",
      "KAUSHALYA       4  0.325000\n",
      "ARVEE           3  0.340000\n"
     ]
    }
   ],
   "source": [
    "print(\"Top 10 Non-Performing Stock in Jan 2021\")\n",
    "bad_14 = result_14.nsmallest(10, ['mean'])\n",
    "print(bad_14)"
   ]
  },
  {
   "cell_type": "code",
   "execution_count": 59,
   "id": "4d024a2c",
   "metadata": {},
   "outputs": [
    {
     "name": "stdout",
     "output_type": "stream",
     "text": [
      "Top 10 Performing Stock in Dec 2020\n",
      "            count           mean\n",
      "SYMBOL                          \n",
      "RELIANCE       15  198321.766000\n",
      "BAJFINANCE     15  164431.882667\n",
      "HDFCBANK       15  132227.596000\n",
      "ICICIBANK      15  119948.483333\n",
      "INFY           15  106562.244000\n",
      "INDUSINDBK     15  102400.135333\n",
      "TATAMOTORS     15  101369.332000\n",
      "HDFC           15   99461.216000\n",
      "SBIN           15   97173.700000\n",
      "TATASTEEL      15   95277.912000\n"
     ]
    }
   ],
   "source": [
    "df_16 = df_1['2020-12']\n",
    "result_15 = df_16.groupby(df_16[\"SYMBOL\"]).TURNOVER_LACS.agg([\"count\",\"mean\"])\n",
    "print(\"Top 10 Performing Stock in Dec 2020\")\n",
    "Good_15 = result_15.nlargest(10, ['mean'])\n",
    "print(Good_15)"
   ]
  },
  {
   "cell_type": "code",
   "execution_count": 60,
   "id": "759c52f6",
   "metadata": {},
   "outputs": [
    {
     "name": "stdout",
     "output_type": "stream",
     "text": [
      "Top 10 Non-Performing Stock in Dec 2021\n",
      "            count      mean\n",
      "SYMBOL                     \n",
      "CYBERMEDIA      7  0.017143\n",
      "SABTN           2  0.050000\n",
      "TVVISION        5  0.070000\n",
      "INTEGRA         5  0.106000\n",
      "GISOLUTION     12  0.180000\n",
      "DCMFINSERV     15  0.238000\n",
      "UMESLTD         5  0.238000\n",
      "EUROMULTI      11  0.245455\n",
      "EBANK          12  0.255833\n",
      "LPDC           15  0.348667\n"
     ]
    }
   ],
   "source": [
    "print(\"Top 10 Non-Performing Stock in Dec 2021\")\n",
    "bad_15 = result_15.nsmallest(10, ['mean'])\n",
    "print(bad_15)"
   ]
  },
  {
   "cell_type": "code",
   "execution_count": 61,
   "id": "5cdaf3a6",
   "metadata": {},
   "outputs": [
    {
     "name": "stdout",
     "output_type": "stream",
     "text": [
      "Top 10 Performing Stock in Nov 2020\n",
      "            count           mean\n",
      "SYMBOL                          \n",
      "RELIANCE       14  345283.475000\n",
      "BAJFINANCE     14  335124.430000\n",
      "KOTAKBANK      14  231256.572143\n",
      "INDUSINDBK     14  218458.342857\n",
      "AXISBANK       14  178956.702857\n",
      "HDFCBANK       14  177365.177143\n",
      "SBIN           14  175205.827143\n",
      "BAJAJFINSV     14  160197.010714\n",
      "ICICIBANK      14  158898.638571\n",
      "HDFC           14  136527.640714\n"
     ]
    }
   ],
   "source": [
    "df_17 = df_1['2020-11']\n",
    "result_16 = df_17.groupby(df_17[\"SYMBOL\"]).TURNOVER_LACS.agg([\"count\",\"mean\"])\n",
    "print(\"Top 10 Performing Stock in Nov 2020\")\n",
    "Good_16 = result_16.nlargest(10, ['mean'])\n",
    "print(Good_16)"
   ]
  },
  {
   "cell_type": "code",
   "execution_count": 62,
   "id": "af4c9fab",
   "metadata": {},
   "outputs": [
    {
     "name": "stdout",
     "output_type": "stream",
     "text": [
      "Top 10 Non-Performing Stock in Nov 2021\n",
      "            count      mean\n",
      "SYMBOL                     \n",
      "GISOLUTION      5  0.032000\n",
      "ROML           13  0.043846\n",
      "DCMFINSERV     13  0.048462\n",
      "BLUECOAST       9  0.056667\n",
      "TVVISION       14  0.061429\n",
      "PREMIER        14  0.090714\n",
      "WSI            14  0.095714\n",
      "UMESLTD        14  0.097857\n",
      "LPDC           14  0.108571\n",
      "IMPEXFERRO     14  0.117857\n"
     ]
    }
   ],
   "source": [
    "print(\"Top 10 Non-Performing Stock in Nov 2021\")\n",
    "bad_16 = result_16.nsmallest(10, ['mean'])\n",
    "print(bad_16)"
   ]
  },
  {
   "cell_type": "code",
   "execution_count": 64,
   "id": "8f41dc1b",
   "metadata": {},
   "outputs": [
    {
     "name": "stdout",
     "output_type": "stream",
     "text": [
      "Top 10 Performing Stock in Oct 2020\n",
      "            count           mean\n",
      "SYMBOL                          \n",
      "RELIANCE       15  269512.688667\n",
      "INFY           15  161019.760667\n",
      "BAJFINANCE     15  154505.948000\n",
      "HDFCBANK       15  142375.429333\n",
      "AXISBANK       15  120495.055333\n",
      "BHARTIARTL     15  119696.749333\n",
      "ICICIBANK      15  118497.746000\n",
      "DRREDDY        15  112345.625333\n",
      "TCS            15  111753.228000\n",
      "HCLTECH        15  106793.322000\n"
     ]
    }
   ],
   "source": [
    "df_18 = df_1['2020-10']\n",
    "result_17 = df_18.groupby(df_18[\"SYMBOL\"]).TURNOVER_LACS.agg([\"count\",\"mean\"])\n",
    "print(\"Top 10 Performing Stock in Oct 2020\")\n",
    "Good_17 = result_17.nlargest(10, ['mean'])\n",
    "print(Good_17)"
   ]
  },
  {
   "cell_type": "code",
   "execution_count": 65,
   "id": "5787b2b6",
   "metadata": {},
   "outputs": [
    {
     "name": "stdout",
     "output_type": "stream",
     "text": [
      "Top 10 Non-Performing Stock in Oct 2021\n",
      "            count      mean\n",
      "SYMBOL                     \n",
      "SPCENET        13  0.022308\n",
      "3PLAND         11  0.033636\n",
      "TVVISION       15  0.040000\n",
      "SABTN          15  0.049333\n",
      "CNOVAPETRO     12  0.062500\n",
      "DBSTOCKBRO     15  0.096667\n",
      "ZODJRDMKJ      15  0.113333\n",
      "NEXTMEDIA      15  0.118000\n",
      "ONELIFECAP     15  0.124667\n",
      "ARIHANT        15  0.141333\n"
     ]
    }
   ],
   "source": [
    "print(\"Top 10 Non-Performing Stock in Oct 2021\")\n",
    "bad_17 = result_17.nsmallest(10, ['mean'])\n",
    "print(bad_17)"
   ]
  },
  {
   "cell_type": "code",
   "execution_count": 66,
   "id": "b6b47763",
   "metadata": {},
   "outputs": [
    {
     "name": "stdout",
     "output_type": "stream",
     "text": [
      "Top 10 Performing Stock in Sept 2020\n",
      "            count           mean\n",
      "SYMBOL                          \n",
      "RELIANCE       23  379294.899565\n",
      "DRREDDY        23  198726.428696\n",
      "BAJFINANCE     23  171659.574783\n",
      "HDFCBANK       23  128425.319565\n",
      "TCS            23  125894.630000\n",
      "BHARTIARTL     23  122223.283478\n",
      "SBIN           23  119179.793913\n",
      "ICICIBANK      23  118990.683478\n",
      "INDUSINDBK     23  107180.976957\n",
      "INFY           23  106742.296522\n"
     ]
    }
   ],
   "source": [
    "df_19 = df_1['2020-09']\n",
    "result_18 = df_19.groupby(df_19[\"SYMBOL\"]).TURNOVER_LACS.agg([\"count\",\"mean\"])\n",
    "print(\"Top 10 Performing Stock in Sept 2020\")\n",
    "Good_18 = result_18.nlargest(10, ['mean'])\n",
    "print(Good_18)"
   ]
  },
  {
   "cell_type": "code",
   "execution_count": 67,
   "id": "6bbdec0f",
   "metadata": {},
   "outputs": [
    {
     "name": "stdout",
     "output_type": "stream",
     "text": [
      "Top 10 Non-Performing Stock in Sept 2021\n",
      "            count      mean\n",
      "SYMBOL                     \n",
      "SATHAISPAT      1  0.000000\n",
      "PAEL            1  0.010000\n",
      "STINDIA         3  0.013333\n",
      "INTEGRA         3  0.020000\n",
      "PRADIP          2  0.020000\n",
      "BLUECOAST       1  0.030000\n",
      "SPCENET         2  0.030000\n",
      "EUROTEXIND     12  0.048333\n",
      "ROML            2  0.050000\n",
      "TFL            18  0.058889\n"
     ]
    }
   ],
   "source": [
    "print(\"Top 10 Non-Performing Stock in Sept 2021\")\n",
    "bad_18 = result_18.nsmallest(10, ['mean'])\n",
    "print(bad_18)"
   ]
  },
  {
   "cell_type": "code",
   "execution_count": 68,
   "id": "ddc30616",
   "metadata": {},
   "outputs": [
    {
     "name": "stdout",
     "output_type": "stream",
     "text": [
      "Top 10 Performing Stock in Aug 2020\n",
      "            count           mean\n",
      "SYMBOL                          \n",
      "RELIANCE       24  314244.190833\n",
      "BAJFINANCE     24  207272.761667\n",
      "SBIN           24  153217.054167\n",
      "ICICIBANK      24  150535.858333\n",
      "HDFCBANK       24  143510.454167\n",
      "AXISBANK       24  135665.583750\n",
      "INDUSINDBK     24  134394.485417\n",
      "BHARTIARTL     24  132909.031667\n",
      "TATAMOTORS     24   99488.769583\n",
      "TCS            24   96791.498333\n"
     ]
    }
   ],
   "source": [
    "df_20 = df_1['2020-08']\n",
    "result_19 = df_20.groupby(df_20[\"SYMBOL\"]).TURNOVER_LACS.agg([\"count\",\"mean\"])\n",
    "print(\"Top 10 Performing Stock in Aug 2020\")\n",
    "Good_19 = result_19.nlargest(10, ['mean'])\n",
    "print(Good_19)"
   ]
  },
  {
   "cell_type": "code",
   "execution_count": 69,
   "id": "e13e3ea4",
   "metadata": {},
   "outputs": [
    {
     "name": "stdout",
     "output_type": "stream",
     "text": [
      "Top 10 Non-Performing Stock in Aug 2021\n",
      "            count      mean\n",
      "SYMBOL                     \n",
      "GISOLUTION      2  0.005000\n",
      "INTEGRA         2  0.010000\n",
      "PAEL            1  0.010000\n",
      "SHYAMTEL        1  0.010000\n",
      "STINDIA         6  0.016667\n",
      "BLUECOAST       1  0.020000\n",
      "BAFNAPH         1  0.040000\n",
      "EUROTEXIND     10  0.048000\n",
      "PRADIP          1  0.050000\n",
      "PREMIER         5  0.052000\n"
     ]
    }
   ],
   "source": [
    "print(\"Top 10 Non-Performing Stock in Aug 2021\")\n",
    "bad_19 = result_19.nsmallest(10, ['mean'])\n",
    "print(bad_19)"
   ]
  },
  {
   "cell_type": "code",
   "execution_count": 70,
   "id": "7990ab5c",
   "metadata": {},
   "outputs": [
    {
     "name": "stdout",
     "output_type": "stream",
     "text": [
      "Top 10 Performing Stock in July 2020\n",
      "            count         mean\n",
      "SYMBOL                        \n",
      "RELIANCE       25  505744.2752\n",
      "BAJFINANCE     25  318881.0368\n",
      "HINDUNILVR     25  207408.8316\n",
      "HDFCBANK       25  154394.1548\n",
      "ICICIBANK      25  147115.5020\n",
      "INFY           25  144693.0636\n",
      "AXISBANK       25  139705.8720\n",
      "SBIN           25  122150.5992\n",
      "INDUSINDBK     25  105939.1500\n",
      "TCS            25  105845.1260\n"
     ]
    }
   ],
   "source": [
    "df_21 = df_1['2020-07']\n",
    "result_20 = df_21.groupby(df_21[\"SYMBOL\"]).TURNOVER_LACS.agg([\"count\",\"mean\"])\n",
    "print(\"Top 10 Performing Stock in July 2020\")\n",
    "Good_20 = result_20.nlargest(10, ['mean'])\n",
    "print(Good_20)"
   ]
  },
  {
   "cell_type": "code",
   "execution_count": 71,
   "id": "ca9638f2",
   "metadata": {},
   "outputs": [
    {
     "name": "stdout",
     "output_type": "stream",
     "text": [
      "Top 10 Non-Performing Stock in July 2021\n",
      "            count    mean\n",
      "SYMBOL                   \n",
      "INFOMEDIA       1  0.0000\n",
      "PAEL            1  0.0000\n",
      "SATHAISPAT      1  0.0000\n",
      "PRADIP          1  0.0100\n",
      "SHYAMTEL        1  0.0100\n",
      "INTEGRA         2  0.0250\n",
      "SABEVENTS       2  0.0250\n",
      "STINDIA         4  0.0275\n",
      "SPCENET         1  0.0400\n",
      "HOTELRUGBY      2  0.0500\n"
     ]
    }
   ],
   "source": [
    "print(\"Top 10 Non-Performing Stock in July 2021\")\n",
    "bad_20 = result_20.nsmallest(10, ['mean'])\n",
    "print(bad_20)"
   ]
  },
  {
   "cell_type": "code",
   "execution_count": 72,
   "id": "663dda7c",
   "metadata": {},
   "outputs": [
    {
     "name": "stdout",
     "output_type": "stream",
     "text": [
      "Top 10 Performing Stock in June 2020\n",
      "            count           mean\n",
      "SYMBOL                          \n",
      "RELIANCE       23  324589.273478\n",
      "BAJFINANCE     23  305208.775652\n",
      "HDFCBANK       23  182625.311739\n",
      "INDUSINDBK     23  173571.063913\n",
      "AXISBANK       23  157414.087391\n",
      "ICICIBANK      23  141707.069565\n",
      "SBIN           23  129942.253043\n",
      "HDFC           23  116864.135652\n",
      "IBULHSGFIN     23   92898.877391\n",
      "TATAMOTORS     23   92240.479565\n"
     ]
    }
   ],
   "source": [
    "df_22 = df_1['2020-06']\n",
    "result_21 = df_22.groupby(df_22[\"SYMBOL\"]).TURNOVER_LACS.agg([\"count\",\"mean\"])\n",
    "print(\"Top 10 Performing Stock in June 2020\")\n",
    "Good_21 = result_21.nlargest(10, ['mean'])\n",
    "print(Good_21)"
   ]
  },
  {
   "cell_type": "code",
   "execution_count": 73,
   "id": "1998ac35",
   "metadata": {},
   "outputs": [
    {
     "name": "stdout",
     "output_type": "stream",
     "text": [
      "Top 10 Non-Performing Stock in June 2020\n",
      "            count      mean\n",
      "SYMBOL                     \n",
      "PREMIER         1  0.000000\n",
      "SABEVENTS       1  0.000000\n",
      "SHYAMTEL        1  0.000000\n",
      "PAEL            1  0.010000\n",
      "TFL             2  0.010000\n",
      "IMPEXFERRO      1  0.020000\n",
      "NTL             1  0.020000\n",
      "SATHAISPAT      1  0.020000\n",
      "SPCENET         1  0.020000\n",
      "EUROTEXIND      3  0.023333\n"
     ]
    }
   ],
   "source": [
    "print(\"Top 10 Non-Performing Stock in June 2020\")\n",
    "bad_21 = result_21.nsmallest(10, ['mean'])\n",
    "print(bad_21)"
   ]
  },
  {
   "cell_type": "code",
   "execution_count": 74,
   "id": "9193bf9d",
   "metadata": {},
   "outputs": [
    {
     "name": "stdout",
     "output_type": "stream",
     "text": [
      "Top 10 Performing Stock in May 2020\n",
      "            count           mean\n",
      "SYMBOL                          \n",
      "RELIANCE       21  337089.135714\n",
      "BAJFINANCE     21  215496.244286\n",
      "HDFCBANK       21  179138.928571\n",
      "ICICIBANK      21  166436.862857\n",
      "BHARTIARTL     21  152903.762381\n",
      "AXISBANK       21  148812.053810\n",
      "SBIN           21  145361.759524\n",
      "HDFC           21  124147.538571\n",
      "HINDUNILVR     21  111355.132381\n",
      "INDUSINDBK     21  107372.364762\n"
     ]
    }
   ],
   "source": [
    "df_23 = df_1['2020-05']\n",
    "result_22 = df_23.groupby(df_23[\"SYMBOL\"]).TURNOVER_LACS.agg([\"count\",\"mean\"])\n",
    "print(\"Top 10 Performing Stock in May 2020\")\n",
    "Good_22 = result_22.nlargest(10, ['mean'])\n",
    "print(Good_22)"
   ]
  },
  {
   "cell_type": "code",
   "execution_count": 75,
   "id": "4050699b",
   "metadata": {},
   "outputs": [
    {
     "name": "stdout",
     "output_type": "stream",
     "text": [
      "Top 10 Non-Performing Stock in May 2020\n",
      "            count      mean\n",
      "SYMBOL                     \n",
      "EUROMULTI       1  0.000000\n",
      "ROML            1  0.000000\n",
      "SHYAMTEL        1  0.000000\n",
      "IMPEXFERRO      1  0.010000\n",
      "NTL             1  0.010000\n",
      "PREMIER         1  0.010000\n",
      "SPCENET         1  0.010000\n",
      "GLFL            7  0.017143\n",
      "BSHSL           1  0.020000\n",
      "PRADIP          1  0.020000\n"
     ]
    }
   ],
   "source": [
    "print(\"Top 10 Non-Performing Stock in May 2020\")\n",
    "bad_22 = result_22.nsmallest(10, ['mean'])\n",
    "print(bad_22)"
   ]
  },
  {
   "cell_type": "code",
   "execution_count": 76,
   "id": "428359ed",
   "metadata": {},
   "outputs": [
    {
     "name": "stdout",
     "output_type": "stream",
     "text": [
      "Top 10 Performing Stock in April 2020\n",
      "            count         mean\n",
      "SYMBOL                        \n",
      "RELIANCE       20  391948.5760\n",
      "BAJFINANCE     20  203512.2865\n",
      "HDFCBANK       20  199735.1360\n",
      "AXISBANK       20  159492.3010\n",
      "ICICIBANK      20  158017.8525\n",
      "SBIN           20  133055.6865\n",
      "INDUSINDBK     20  121894.4830\n",
      "HDFC           20  114039.7370\n",
      "HINDUNILVR     20  110223.4765\n",
      "SUNPHARMA      20   92185.6995\n"
     ]
    }
   ],
   "source": [
    "df_24 = df_1['2020-04']\n",
    "result_23 = df_24.groupby(df_24[\"SYMBOL\"]).TURNOVER_LACS.agg([\"count\",\"mean\"])\n",
    "print(\"Top 10 Performing Stock in April 2020\")\n",
    "Good_23 = result_23.nlargest(10, ['mean'])\n",
    "print(Good_23)"
   ]
  },
  {
   "cell_type": "code",
   "execution_count": 77,
   "id": "f975aaf3",
   "metadata": {},
   "outputs": [
    {
     "name": "stdout",
     "output_type": "stream",
     "text": [
      "Top 10 Non-Performing Stock in April 2020\n",
      "            count      mean\n",
      "SYMBOL                     \n",
      "GISOLUTION      1  0.000000\n",
      "SPCENET         1  0.010000\n",
      "ROML            2  0.020000\n",
      "SATHAISPAT     12  0.021667\n",
      "STINDIA        12  0.026667\n",
      "HOTELRUGBY      2  0.035000\n",
      "INTEGRA         2  0.040000\n",
      "EUROTEXIND      3  0.043333\n",
      "GFSTEELS       14  0.048571\n",
      "PRADIP          1  0.050000\n"
     ]
    }
   ],
   "source": [
    "print(\"Top 10 Non-Performing Stock in April 2020\")\n",
    "bad_23 = result_23.nsmallest(10, ['mean'])\n",
    "print(bad_23)"
   ]
  },
  {
   "cell_type": "code",
   "execution_count": 78,
   "id": "40c887e4",
   "metadata": {},
   "outputs": [
    {
     "name": "stdout",
     "output_type": "stream",
     "text": [
      "Top 10 Performing Stock in March 2020\n",
      "            count         mean\n",
      "SYMBOL                        \n",
      "RELIANCE       25  254868.7716\n",
      "HDFCBANK       25  206563.5064\n",
      "ICICIBANK      25  177190.6732\n",
      "SBIN           25  163975.3132\n",
      "BAJFINANCE     25  162158.7088\n",
      "HDFC           25  146954.1284\n",
      "AXISBANK       25  138166.8060\n",
      "INDUSINDBK     25  119794.1500\n",
      "TCS            25  102310.7928\n",
      "INFY           25   91738.2504\n"
     ]
    }
   ],
   "source": [
    "df_25 = df_1['2020-03']\n",
    "result_24 = df_25.groupby(df_25[\"SYMBOL\"]).TURNOVER_LACS.agg([\"count\",\"mean\"])\n",
    "print(\"Top 10 Performing Stock in March 2020\")\n",
    "Good_24 = result_24.nlargest(10, ['mean'])\n",
    "print(Good_24)"
   ]
  },
  {
   "cell_type": "code",
   "execution_count": 79,
   "id": "37f9252a",
   "metadata": {},
   "outputs": [
    {
     "name": "stdout",
     "output_type": "stream",
     "text": [
      "Top 10 Non-Performing Stock in March 2020\n",
      "            count      mean\n",
      "SYMBOL                     \n",
      "STINDIA        15  0.007333\n",
      "INFOMEDIA      14  0.011429\n",
      "INTEGRA        10  0.016000\n",
      "SHYAMTEL        6  0.020000\n",
      "PAEL           16  0.022500\n",
      "WSI             4  0.027500\n",
      "PRADIP         16  0.028125\n",
      "LPDC           19  0.032105\n",
      "HOTELRUGBY      2  0.035000\n",
      "PREMIER        13  0.036154\n"
     ]
    }
   ],
   "source": [
    "print(\"Top 10 Non-Performing Stock in March 2020\")\n",
    "bad_24 = result_24.nsmallest(10, ['mean'])\n",
    "print(bad_24)"
   ]
  },
  {
   "cell_type": "code",
   "execution_count": 80,
   "id": "3db5f18d",
   "metadata": {},
   "outputs": [
    {
     "name": "stdout",
     "output_type": "stream",
     "text": [
      "Top 10 Performing Stock in Feb 2020\n",
      "            count           mean\n",
      "SYMBOL                          \n",
      "RELIANCE       21  183188.043333\n",
      "SBIN           21  130672.506190\n",
      "BAJFINANCE     21  111479.787619\n",
      "INDUSINDBK     21  106346.260476\n",
      "ICICIBANK      21  105357.193333\n",
      "IBULHSGFIN     21   99506.403810\n",
      "HDFCBANK       21   95585.495238\n",
      "BHARTIARTL     21   90115.211429\n",
      "TATAMOTORS     21   87390.998571\n",
      "HDFC           21   86225.577143\n"
     ]
    }
   ],
   "source": [
    "df_26 = df_1['2020-02']\n",
    "result_25 = df_26.groupby(df_26[\"SYMBOL\"]).TURNOVER_LACS.agg([\"count\",\"mean\"])\n",
    "print(\"Top 10 Performing Stock in Feb 2020\")\n",
    "Good_25 = result_25.nlargest(10, ['mean'])\n",
    "print(Good_25)"
   ]
  },
  {
   "cell_type": "code",
   "execution_count": 81,
   "id": "f46f07f6",
   "metadata": {},
   "outputs": [
    {
     "name": "stdout",
     "output_type": "stream",
     "text": [
      "Top 10 Non-Performing Stock in Feb 2020\n",
      "            count    mean\n",
      "SYMBOL                   \n",
      "SPCENET         1  0.0000\n",
      "TFL             1  0.0000\n",
      "GISOLUTION      2  0.0050\n",
      "GFSTEELS        1  0.0100\n",
      "INTEGRA         1  0.0200\n",
      "PRADIP          5  0.0220\n",
      "HOTELRUGBY      2  0.0250\n",
      "GBGLOBAL        1  0.0400\n",
      "TECHIN          2  0.0450\n",
      "JPOLYINVST     20  0.0475\n"
     ]
    }
   ],
   "source": [
    "print(\"Top 10 Non-Performing Stock in Feb 2020\")\n",
    "bad_25 = result_25.nsmallest(10, ['mean'])\n",
    "print(bad_25)"
   ]
  },
  {
   "cell_type": "code",
   "execution_count": 82,
   "id": "28aa18ac",
   "metadata": {},
   "outputs": [
    {
     "name": "stdout",
     "output_type": "stream",
     "text": [
      "Top 10 Performing Stock in Jan 2020\n",
      "            count           mean\n",
      "SYMBOL                          \n",
      "RELIANCE       24  161999.752083\n",
      "BHARTIARTL     24  123642.883750\n",
      "SBIN           24  113226.645417\n",
      "INDUSINDBK     24  108063.661250\n",
      "BAJFINANCE     24  104173.090833\n",
      "HDFCBANK       24   95604.877500\n",
      "ICICIBANK      24   93845.607083\n",
      "AXISBANK       24   85418.053333\n",
      "HDFC           24   77549.757500\n",
      "TATAMOTORS     24   70067.377917\n"
     ]
    }
   ],
   "source": [
    "df_27 = df_1['2020-01']\n",
    "result_26 = df_27.groupby(df_27[\"SYMBOL\"]).TURNOVER_LACS.agg([\"count\",\"mean\"])\n",
    "print(\"Top 10 Performing Stock in Jan 2020\")\n",
    "Good_26 = result_26.nlargest(10, ['mean'])\n",
    "print(Good_26)"
   ]
  },
  {
   "cell_type": "code",
   "execution_count": 83,
   "id": "791a1637",
   "metadata": {},
   "outputs": [
    {
     "name": "stdout",
     "output_type": "stream",
     "text": [
      "Top 10 Non-Performing Stock in Jan 2020\n",
      "            count      mean\n",
      "SYMBOL                     \n",
      "INFOMEDIA       1  0.000000\n",
      "PAEL            1  0.010000\n",
      "SHYAMTEL        1  0.010000\n",
      "INTEGRA         3  0.020000\n",
      "SATHAISPAT      2  0.020000\n",
      "GISOLUTION      2  0.025000\n",
      "LPDC           21  0.035238\n",
      "PREMIER         2  0.040000\n",
      "STINDIA        16  0.043125\n",
      "TFL             1  0.050000\n"
     ]
    }
   ],
   "source": [
    "print(\"Top 10 Non-Performing Stock in Jan 2020\")\n",
    "bad_26 = result_26.nsmallest(10, ['mean'])\n",
    "print(bad_26)"
   ]
  },
  {
   "cell_type": "code",
   "execution_count": null,
   "id": "b010b600",
   "metadata": {},
   "outputs": [],
   "source": []
  }
 ],
 "metadata": {
  "kernelspec": {
   "display_name": "Python 3",
   "language": "python",
   "name": "python3"
  },
  "language_info": {
   "codemirror_mode": {
    "name": "ipython",
    "version": 3
   },
   "file_extension": ".py",
   "mimetype": "text/x-python",
   "name": "python",
   "nbconvert_exporter": "python",
   "pygments_lexer": "ipython3",
   "version": "3.8.8"
  }
 },
 "nbformat": 4,
 "nbformat_minor": 5
}
